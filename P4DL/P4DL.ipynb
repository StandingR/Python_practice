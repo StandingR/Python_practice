{
 "cells": [
  {
   "cell_type": "code",
   "execution_count": 1,
   "id": "initial_id",
   "metadata": {
    "collapsed": true,
    "ExecuteTime": {
     "end_time": "2024-02-14T10:08:35.814148Z",
     "start_time": "2024-02-14T10:08:35.800577Z"
    }
   },
   "outputs": [
    {
     "name": "stdout",
     "output_type": "stream",
     "text": [
      "Hello World!\n",
      "Name: Jae Woo\n",
      "Age: 100\n",
      "Grade: 4.5\n"
     ]
    }
   ],
   "source": [
    "#EX 1-1 : print()로 data 출력하기\n",
    "# 사용자에게 data 값을 알려주는 print 함수의 기본적인 사용법을 배웁니다.\n",
    "\n",
    "print(\"Hello World!\")\n",
    "print(\"Name:\", \"Jae Woo\")\n",
    "print(\"Age:\", 100)\n",
    "print(\"Grade:\", 4.5)"
   ]
  },
  {
   "cell_type": "code",
   "execution_count": 2,
   "outputs": [
    {
     "name": "stdout",
     "output_type": "stream",
     "text": [
      "name: Jae Woo\n",
      "math score: 80\n",
      "height: 177.8\n"
     ]
    }
   ],
   "source": [
    "#EX 1-2 : int, float, str 변수 할당하고 출력하기\n",
    "# 다양한 data type의 data를 variable에 할당하는 방법을 배웁니다.\n",
    "\n",
    "name = \"Jae Woo\"\n",
    "math_score = 80\n",
    "height = 177.8\n",
    "\n",
    "print(\"name:\", name)\n",
    "print(\"math score:\", math_score)\n",
    "print(\"height:\", height)"
   ],
   "metadata": {
    "collapsed": false,
    "ExecuteTime": {
     "end_time": "2024-02-14T10:11:08.705959Z",
     "start_time": "2024-02-14T10:11:08.686474Z"
    }
   },
   "id": "7b5a800068e04c1c"
  },
  {
   "cell_type": "code",
   "execution_count": 3,
   "outputs": [
    {
     "name": "stdout",
     "output_type": "stream",
     "text": [
      "6\n",
      "2\n",
      "8\n",
      "2.0\n",
      "2\n",
      "0\n",
      "16\n"
     ]
    }
   ],
   "source": [
    "#EX 1-3 : 사칙연산\n",
    "# Python에서 제공한는 연산자들을 사용한는 방법을 배웁니다.\n",
    "int1 = 4\n",
    "int2 = 2\n",
    "print(int1+int2)\n",
    "print(int1-int2)\n",
    "print(int1*int2)\n",
    "print(int1/int2)\n",
    "print(int1//int2)\n",
    "print(int1%int2)\n",
    "print(int1**int2)"
   ],
   "metadata": {
    "collapsed": false,
    "ExecuteTime": {
     "end_time": "2024-02-14T10:12:37.332617Z",
     "start_time": "2024-02-14T10:12:37.324392Z"
    }
   },
   "id": "7150ab4c03d30246"
  },
  {
   "cell_type": "code",
   "execution_count": 4,
   "outputs": [
    {
     "name": "stdout",
     "output_type": "stream",
     "text": [
      "6 2 8 2.0 2 0 16\n"
     ]
    }
   ],
   "source": [
    "#EX 1-4 : 사칙연산 결과를 할당하고 출력하기\n",
    "# 변수를 동시에 할당하는 방법을 배우고, 연산의 결과를 변수에 할당하는 방법을 배웁니다.\n",
    "int1 , int2 = 4 ,2\n",
    "add, sub = int1 + int2, int1 - int2\n",
    "mul, div = int1 * int2, int1 / int2\n",
    "quo, rem = int1 // int2, int1 % int2\n",
    "pow = int1 ** int2\n",
    "\n",
    "print(add, sub, mul, div, quo , rem, pow)"
   ],
   "metadata": {
    "collapsed": false,
    "ExecuteTime": {
     "end_time": "2024-02-14T10:15:53.753742Z",
     "start_time": "2024-02-14T10:15:53.739085Z"
    }
   },
   "id": "c4475fa2be24c880"
  },
  {
   "cell_type": "code",
   "execution_count": 6,
   "outputs": [
    {
     "name": "stdout",
     "output_type": "stream",
     "text": [
      "1 0 1 0\n"
     ]
    }
   ],
   "source": [
    "#EX 1-5 : 홀수 짝수 구하기\n",
    "# n의 배수인 수들의 특징을 % 연산자를 통해 확인합니다\n",
    "int1 , int2, int3, int4 = 1, 2, 3, 4\n",
    "div = 2\n",
    "rem1, rem2, rem3, rem4 = int1%div, int2%div, int3%div, int4%div\n",
    "\n",
    "print(rem1, rem2, rem3, rem4)"
   ],
   "metadata": {
    "collapsed": false,
    "ExecuteTime": {
     "end_time": "2024-02-14T10:18:38.908505Z",
     "start_time": "2024-02-14T10:18:38.903740Z"
    }
   },
   "id": "537e07a02c5746c9"
  },
  {
   "cell_type": "code",
   "execution_count": 9,
   "outputs": [
    {
     "name": "stdout",
     "output_type": "stream",
     "text": [
      "10\n",
      "20\n",
      "18\n",
      "90\n",
      "18.0\n",
      "324.0\n"
     ]
    }
   ],
   "source": [
    "#EX 1-6 : 자기 자신에 연산하기\n",
    "# 복합대입연산자 사용법의 필요성과 사용방법에 대해 배웁니다.\n",
    "score = 10\n",
    "print(score)\n",
    "score += 10\n",
    "print(score)\n",
    "score -= 2\n",
    "print(score)\n",
    "score *= 5\n",
    "print(score)\n",
    "score /= 5\n",
    "print(score)\n",
    "score **=2\n",
    "print(score)"
   ],
   "metadata": {
    "collapsed": false,
    "ExecuteTime": {
     "end_time": "2024-02-14T10:24:25.007567Z",
     "start_time": "2024-02-14T10:24:24.999273Z"
    }
   },
   "id": "ab5d20c897b2374a"
  },
  {
   "cell_type": "code",
   "execution_count": 10,
   "outputs": [
    {
     "name": "stdout",
     "output_type": "stream",
     "text": [
      "60\n"
     ]
    }
   ],
   "source": [
    "#EX 1-7 : 수학점수의 합 구하기\n",
    "# 수학식(Sigma)을 코드로 만드는 연습을 해봅니다.\n",
    "score1 = 10\n",
    "score2 = 20\n",
    "score3 = 30\n",
    "\n",
    "score_sum = score1 + score2 + score3\n",
    "\n",
    "print(score_sum)"
   ],
   "metadata": {
    "collapsed": false,
    "ExecuteTime": {
     "end_time": "2024-02-14T10:25:47.439069Z",
     "start_time": "2024-02-14T10:25:47.433607Z"
    }
   },
   "id": "34ca1871bf2b688e"
  },
  {
   "cell_type": "code",
   "execution_count": 11,
   "outputs": [
    {
     "name": "stdout",
     "output_type": "stream",
     "text": [
      "20.0\n"
     ]
    }
   ],
   "source": [
    "#EX 1-8 : 수학점수의 평균 구하기\n",
    "# 수학식(data들의 퍙균)을 코드로 만드는 연습을 해봅니다.\n",
    "score1 = 10\n",
    "score2 = 20\n",
    "score3 = 30\n",
    "n_student = 3\n",
    "\n",
    "score_mean = (score1 + score2 + score3)/n_student\n",
    "\n",
    "print(score_mean)"
   ],
   "metadata": {
    "collapsed": false,
    "ExecuteTime": {
     "end_time": "2024-02-14T10:28:01.039390Z",
     "start_time": "2024-02-14T10:28:01.034717Z"
    }
   },
   "id": "9554aacb74d1d1fe"
  },
  {
   "cell_type": "code",
   "execution_count": 16,
   "outputs": [
    {
     "name": "stdout",
     "output_type": "stream",
     "text": [
      "20.0\n",
      "20 30 40\n",
      "30.0\n"
     ]
    }
   ],
   "source": [
    "#EX 1-9 : 추가점수를 받은 학생들의 평균\n",
    "# 복합 대입 연산자를 이용해 학생들의 점수를 수정하고, 평균을 다시 구해봅니다. 이를 통해 모든 data가 같은 값으로 변했을 떄,평균이 어떻게 바귀는지 확인해봅시다.(addtitvity)\n",
    "score1 = 10\n",
    "score2 = 20\n",
    "score3 = 30\n",
    "n_student = 3\n",
    "mean = (score1 + score2+ score3)/n_student\n",
    "print(mean)\n",
    "\n",
    "score1 += 10\n",
    "score2 += 10\n",
    "score3 += 10\n",
    "print(score1, score2, score3)\n",
    "\n",
    "mean = (score1 + score2 + score3)/n_student\n",
    "print(mean)"
   ],
   "metadata": {
    "collapsed": false,
    "ExecuteTime": {
     "end_time": "2024-02-14T10:33:24.987456Z",
     "start_time": "2024-02-14T10:33:24.986256Z"
    }
   },
   "id": "5bd6cd7f13caa6ff"
  },
  {
   "cell_type": "code",
   "execution_count": 18,
   "outputs": [
    {
     "name": "stdout",
     "output_type": "stream",
     "text": [
      "20.0\n",
      "0.0\n"
     ]
    }
   ],
   "source": [
    "#EX 1-10 : Mean Subtratraction\n",
    "# 수학식(mean subtraction)을 코드로 만드는 연습을 해봅니다\n",
    "\n",
    "score1 = 10\n",
    "score2 = 20\n",
    "score3 = 30\n",
    "n_student = 3 \n",
    "\n",
    "score_mean = (score1 + score2 + score3)/n_student\n",
    "print(score_mean)\n",
    "\n",
    "score1 -= score_mean\n",
    "score2 -= score_mean\n",
    "score3 -= score_mean\n",
    "score_mean = (score1 + score2 + score3)/n_student\n",
    "print(score_mean)"
   ],
   "metadata": {
    "collapsed": false,
    "ExecuteTime": {
     "end_time": "2024-02-14T10:36:31.359941Z",
     "start_time": "2024-02-14T10:36:31.346663Z"
    }
   },
   "id": "853e6e21facb1815"
  },
  {
   "cell_type": "code",
   "execution_count": null,
   "outputs": [],
   "source": [],
   "metadata": {
    "collapsed": false
   },
   "id": "d21e3302eb56e8b"
  }
 ],
 "metadata": {
  "kernelspec": {
   "display_name": "Python 3",
   "language": "python",
   "name": "python3"
  },
  "language_info": {
   "codemirror_mode": {
    "name": "ipython",
    "version": 2
   },
   "file_extension": ".py",
   "mimetype": "text/x-python",
   "name": "python",
   "nbconvert_exporter": "python",
   "pygments_lexer": "ipython2",
   "version": "2.7.6"
  }
 },
 "nbformat": 4,
 "nbformat_minor": 5
}
