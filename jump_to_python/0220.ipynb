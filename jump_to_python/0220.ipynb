{
 "cells": [
  {
   "cell_type": "markdown",
   "source": [
    "## 문자열(string)이란 문자,단어 등으로 구성된 문자들의 집합을 말한다.\n",
    "\n",
    "아래처럼 모든 예문이 큰따옴표(\")로 둘러싸여 있다.'123은 숫자인데 왜 문자열이지?'라는 의문이 들수있지만, 간단하게 따옴표로 둘러싸여 있으면 모두 문자열이라고 보면된다!"
   ],
   "metadata": {
    "collapsed": false
   },
   "id": "b9ff6b99ed7d466e"
  },
  {
   "cell_type": "code",
   "execution_count": 1,
   "outputs": [
    {
     "data": {
      "text/plain": "'123'"
     },
     "execution_count": 1,
     "metadata": {},
     "output_type": "execute_result"
    }
   ],
   "source": [
    "\"Life is too short, you need Python\"\n",
    "\"a\"\n",
    "\"123\""
   ],
   "metadata": {
    "collapsed": false,
    "ExecuteTime": {
     "end_time": "2024-02-20T00:04:22.756267Z",
     "start_time": "2024-02-20T00:04:22.739641Z"
    }
   },
   "id": "cb20889c770502a3"
  },
  {
   "cell_type": "markdown",
   "source": [
    "## 문자열은 어떻게 만들고 사용할까?\n",
    "\n",
    "즉, 파이썬에서 문자열을 만드는 방법은 총 4가지이다."
   ],
   "metadata": {
    "collapsed": false
   },
   "id": "8e48b555e30a475f"
  },
  {
   "cell_type": "markdown",
   "source": [
    "1. 큰 따옴표로 양쪽 둘러싸기"
   ],
   "metadata": {
    "collapsed": false
   },
   "id": "5891027c74fb6e5e"
  },
  {
   "cell_type": "code",
   "execution_count": null,
   "outputs": [],
   "source": [
    "\"Hello World!\""
   ],
   "metadata": {
    "collapsed": false
   },
   "id": "9c8483e161fb8774"
  },
  {
   "cell_type": "markdown",
   "source": [
    "2. 작은 따옴표로 양쪽 둘러싸기"
   ],
   "metadata": {
    "collapsed": false
   },
   "id": "3a8c63222d4adb8e"
  },
  {
   "cell_type": "code",
   "execution_count": null,
   "id": "initial_id",
   "metadata": {
    "collapsed": true
   },
   "outputs": [],
   "source": [
    "'Python is fun'"
   ]
  },
  {
   "cell_type": "markdown",
   "source": [
    "3. 큰 따옴표 3개를 연속으로 써서 양쪽을 둘러싸기"
   ],
   "metadata": {
    "collapsed": false
   },
   "id": "44283cbaeb620a93"
  },
  {
   "cell_type": "code",
   "execution_count": null,
   "outputs": [],
   "source": [
    "\"\"\"Life is too short, you need Python\"\"\""
   ],
   "metadata": {
    "collapsed": false
   },
   "id": "3ade1173aea2e3db"
  },
  {
   "cell_type": "markdown",
   "source": [
    "4. 작은 따옴표 3개를 연속으로 써서 양쪽을 둘러싸기    "
   ],
   "metadata": {
    "collapsed": false
   },
   "id": "13e71e28655219e1"
  },
  {
   "cell_type": "code",
   "execution_count": 2,
   "outputs": [
    {
     "data": {
      "text/plain": "'Life is too short, you need Python'"
     },
     "execution_count": 2,
     "metadata": {},
     "output_type": "execute_result"
    }
   ],
   "source": [
    "'''Life is too short, you need Python'''"
   ],
   "metadata": {
    "collapsed": false,
    "ExecuteTime": {
     "end_time": "2024-02-20T00:09:25.249698Z",
     "start_time": "2024-02-20T00:09:25.242147Z"
    }
   },
   "id": "860fa9b90a3b6a7d"
  },
  {
   "cell_type": "markdown",
   "source": [
    "단순함이 자랑인 파이썬이 문자열을 만드는 방법은 왜 4가지인 이유는 각 상황마다의 사용법이 다르기 떄문이다."
   ],
   "metadata": {
    "collapsed": false
   },
   "id": "d4242790f9ae463a"
  },
  {
   "cell_type": "markdown",
   "source": [
    "## 문자열안에 작은 따옴표나 큰 따옴표를 포함하고 싶을떄"
   ],
   "metadata": {
    "collapsed": false
   },
   "id": "2f1ba8a17787f25e"
  },
  {
   "cell_type": "markdown",
   "source": [
    "문자열을 만들어 주는 주인공은 작은따옴표(')와 큰따옴표(\")이다. 그런데 문자열 안에도 작은따옴표와 큰따옴표가 들어 있어야 할 경우가 있다. 이때는 좀 더 특별한 기술이 필요하다. 예제를 하나씩 살펴보면서 원리를 익혀 보자."
   ],
   "metadata": {
    "collapsed": false
   },
   "id": "be5276511efc4a55"
  },
  {
   "cell_type": "markdown",
   "source": [
    "1. 문자열에 작은 따옴표 포함하기\n",
    "Python's favorite food is perl\n",
    "\n",
    "위와 같은 문자열을 food 변수에 저장하기 위해서는 (')를 처리 해주어야한다!"
   ],
   "metadata": {
    "collapsed": false
   },
   "id": "53f28a6f9e145130"
  },
  {
   "cell_type": "code",
   "execution_count": 3,
   "outputs": [
    {
     "ename": "SyntaxError",
     "evalue": "EOL while scanning string literal (3957902912.py, line 1)",
     "output_type": "error",
     "traceback": [
      "\u001B[0;36m  Cell \u001B[0;32mIn[3], line 1\u001B[0;36m\u001B[0m\n\u001B[0;31m    Python's favorite food is perl\u001B[0m\n\u001B[0m                                  ^\u001B[0m\n\u001B[0;31mSyntaxError\u001B[0m\u001B[0;31m:\u001B[0m EOL while scanning string literal\n"
     ]
    }
   ],
   "source": [
    "Python's favorite food is perl"
   ],
   "metadata": {
    "collapsed": false,
    "ExecuteTime": {
     "end_time": "2024-02-20T01:11:08.948147Z",
     "start_time": "2024-02-20T01:11:08.938623Z"
    }
   },
   "id": "cda998d4d39ec431"
  },
  {
   "cell_type": "code",
   "execution_count": 6,
   "outputs": [
    {
     "data": {
      "text/plain": "\"Python's favorite food is perl\""
     },
     "execution_count": 6,
     "metadata": {},
     "output_type": "execute_result"
    }
   ],
   "source": [
    "food = \"Python's favorite food is perl\"\n",
    "food"
   ],
   "metadata": {
    "collapsed": false,
    "ExecuteTime": {
     "end_time": "2024-02-20T01:27:41.902882Z",
     "start_time": "2024-02-20T01:27:41.897711Z"
    }
   },
   "id": "8381b45dd6d85040"
  },
  {
   "cell_type": "markdown",
   "source": [
    "프롬프트에 ‘food’를 입력해서 결과를 확인해 보면 변수에 저장된 문자열이 그대로 출력되는 것을 볼 수 있다.\n",
    "하지만 같은 문자열로 감씨게 되면 오류가 발생한다."
   ],
   "metadata": {
    "collapsed": false
   },
   "id": "c7ed0fb39e8c5ea0"
  },
  {
   "cell_type": "code",
   "execution_count": 10,
   "outputs": [
    {
     "ename": "SyntaxError",
     "evalue": "invalid syntax (2260556076.py, line 1)",
     "output_type": "error",
     "traceback": [
      "\u001B[0;36m  Cell \u001B[0;32mIn[10], line 1\u001B[0;36m\u001B[0m\n\u001B[0;31m    food = 'Python's favorite food is perl'\u001B[0m\n\u001B[0m                   ^\u001B[0m\n\u001B[0;31mSyntaxError\u001B[0m\u001B[0;31m:\u001B[0m invalid syntax\n"
     ]
    }
   ],
   "source": [
    "food = 'Python's favorite food is perl'\n",
    "food = 'Python's favorite food is perl'\n",
    "                   "
   ],
   "metadata": {
    "collapsed": false,
    "ExecuteTime": {
     "end_time": "2024-02-20T01:29:35.215350Z",
     "start_time": "2024-02-20T01:29:35.207790Z"
    }
   },
   "id": "2831c9af73b18a44"
  },
  {
   "cell_type": "markdown",
   "source": [
    "2. 문자열에 큰 따옴표 포함하기"
   ],
   "metadata": {
    "collapsed": false
   },
   "id": "68b1448ad0d48588"
  },
  {
   "cell_type": "code",
   "execution_count": 12,
   "outputs": [
    {
     "ename": "SyntaxError",
     "evalue": "invalid syntax (3734986756.py, line 1)",
     "output_type": "error",
     "traceback": [
      "\u001B[0;36m  Cell \u001B[0;32mIn[12], line 1\u001B[0;36m\u001B[0m\n\u001B[0;31m    \"Python is very easy.\" he says.\u001B[0m\n\u001B[0m                           ^\u001B[0m\n\u001B[0;31mSyntaxError\u001B[0m\u001B[0;31m:\u001B[0m invalid syntax\n"
     ]
    }
   ],
   "source": [
    "\"Python is very easy.\" he says."
   ],
   "metadata": {
    "collapsed": false,
    "ExecuteTime": {
     "end_time": "2024-02-20T01:31:26.909348Z",
     "start_time": "2024-02-20T01:31:26.898555Z"
    }
   },
   "id": "342410cb8174625f"
  },
  {
   "cell_type": "markdown",
   "source": [
    "위와 같이 큰따옴표가 포함된 문자열이라면 어떻게 해야 큰따옴표가 제대로 표현될까?\n",
    "\n",
    "문자열을 작은따옴표로 둘러싸면 된다"
   ],
   "metadata": {
    "collapsed": false
   },
   "id": "a83fa9582a2c107c"
  },
  {
   "cell_type": "code",
   "execution_count": 15,
   "outputs": [
    {
     "data": {
      "text/plain": "'\"Python is very easy.\" he says.'"
     },
     "execution_count": 15,
     "metadata": {},
     "output_type": "execute_result"
    }
   ],
   "source": [
    "say = '\"Python is very easy.\" he says.'\n",
    "say"
   ],
   "metadata": {
    "collapsed": false,
    "ExecuteTime": {
     "end_time": "2024-02-20T01:31:48.805416Z",
     "start_time": "2024-02-20T01:31:48.798736Z"
    }
   },
   "id": "34e2280ecd624a34"
  },
  {
   "cell_type": "markdown",
   "source": [
    "## 여러 줄인 문자열을 변수에 대입하고 싶을 때"
   ],
   "metadata": {
    "collapsed": false
   },
   "id": "73c77e4b7ce6540"
  },
  {
   "cell_type": "code",
   "execution_count": 16,
   "outputs": [
    {
     "ename": "SyntaxError",
     "evalue": "invalid syntax (4082786285.py, line 1)",
     "output_type": "error",
     "traceback": [
      "\u001B[0;36m  Cell \u001B[0;32mIn[16], line 1\u001B[0;36m\u001B[0m\n\u001B[0;31m    Life is too short\u001B[0m\n\u001B[0m                ^\u001B[0m\n\u001B[0;31mSyntaxError\u001B[0m\u001B[0;31m:\u001B[0m invalid syntax\n"
     ]
    }
   ],
   "source": [
    "Life is too short\n",
    "You need python"
   ],
   "metadata": {
    "collapsed": false,
    "ExecuteTime": {
     "end_time": "2024-02-20T01:33:05.672292Z",
     "start_time": "2024-02-20T01:33:05.659431Z"
    }
   },
   "id": "81460148dc7592e4"
  },
  {
   "cell_type": "markdown",
   "source": [
    "1. 줄을 바꾸기 위한 이스케이프 코드 \\n 삽입하기"
   ],
   "metadata": {
    "collapsed": false
   },
   "id": "efdf136b1d2d6ee0"
  },
  {
   "cell_type": "code",
   "execution_count": 17,
   "outputs": [
    {
     "data": {
      "text/plain": "'Life is too short\\nYou need python'"
     },
     "execution_count": 17,
     "metadata": {},
     "output_type": "execute_result"
    }
   ],
   "source": [
    "multiline = \"Life is too short\\nYou need python\"\n",
    "multiline\n"
   ],
   "metadata": {
    "collapsed": false,
    "ExecuteTime": {
     "end_time": "2024-02-20T01:33:39.581656Z",
     "start_time": "2024-02-20T01:33:39.563291Z"
    }
   },
   "id": "58b0fc913539d67c"
  },
  {
   "cell_type": "markdown",
   "source": [
    "하지만 이 방법은, 읽기가 불편하고 줄이 길어지는 단점이 있다"
   ],
   "metadata": {
    "collapsed": false
   },
   "id": "a6c7eb59fd189797"
  },
  {
   "cell_type": "markdown",
   "source": [
    "2. 연속된 작은따옴표 3개 또는 큰따옴표 3개 사용하기\n",
    "1번 방법의 단점을 극복하기 위해 파이썬에서는 다음과 같이 작은따옴표 3개(''') 또는 큰따옴표 3개(\"\"\")를 사용한다."
   ],
   "metadata": {
    "collapsed": false
   },
   "id": "b5f3a76295958b2"
  },
  {
   "cell_type": "code",
   "execution_count": 22,
   "outputs": [
    {
     "name": "stdout",
     "output_type": "stream",
     "text": [
      "\n",
      "Life is too short\n",
      "You need python\n"
     ]
    }
   ],
   "source": [
    "multiline='''\n",
    "... Life is too short\n",
    "... You need python\n",
    "... '''\n",
    "multiline\n",
    "print(multiline)"
   ],
   "metadata": {
    "collapsed": false,
    "ExecuteTime": {
     "end_time": "2024-02-20T01:35:26.357477Z",
     "start_time": "2024-02-20T01:35:26.353290Z"
    }
   },
   "id": "3674dd247cac95fd"
  },
  {
   "cell_type": "code",
   "execution_count": 23,
   "outputs": [
    {
     "name": "stdout",
     "output_type": "stream",
     "text": [
      "\n",
      "Life is too short\n",
      "You need python\n"
     ]
    }
   ],
   "source": [
    "multiline=\"\"\"\n",
    "... Life is too short\n",
    "... You need python\n",
    "... \"\"\"\n",
    "multiline\n",
    "print(multiline)"
   ],
   "metadata": {
    "collapsed": false,
    "ExecuteTime": {
     "end_time": "2024-02-20T01:35:33.439326Z",
     "start_time": "2024-02-20T01:35:33.432324Z"
    }
   },
   "id": "9155121653f78e14"
  },
  {
   "cell_type": "code",
   "execution_count": null,
   "outputs": [],
   "source": [],
   "metadata": {
    "collapsed": false
   },
   "id": "e733629f437a01f2"
  }
 ],
 "metadata": {
  "kernelspec": {
   "display_name": "Python 3",
   "language": "python",
   "name": "python3"
  },
  "language_info": {
   "codemirror_mode": {
    "name": "ipython",
    "version": 2
   },
   "file_extension": ".py",
   "mimetype": "text/x-python",
   "name": "python",
   "nbconvert_exporter": "python",
   "pygments_lexer": "ipython2",
   "version": "2.7.6"
  }
 },
 "nbformat": 4,
 "nbformat_minor": 5
}
