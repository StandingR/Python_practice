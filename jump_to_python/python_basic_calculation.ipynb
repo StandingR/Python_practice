{
 "cells": [
  {
   "cell_type": "markdown",
   "source": [
    "# 사칙 연산"
   ],
   "metadata": {
    "collapsed": false
   },
   "id": "d5f0bca8a9d72510"
  },
  {
   "cell_type": "code",
   "execution_count": 2,
   "outputs": [
    {
     "data": {
      "text/plain": "2"
     },
     "execution_count": 2,
     "metadata": {},
     "output_type": "execute_result"
    }
   ],
   "source": [
    "1 + 1"
   ],
   "metadata": {
    "collapsed": false,
    "ExecuteTime": {
     "end_time": "2024-02-12T23:17:51.893380Z",
     "start_time": "2024-02-12T23:17:51.877900Z"
    }
   },
   "id": "ddcda1b03e67878c"
  },
  {
   "cell_type": "code",
   "execution_count": 5,
   "id": "initial_id",
   "metadata": {
    "collapsed": true,
    "ExecuteTime": {
     "end_time": "2024-02-12T23:18:14.382284Z",
     "start_time": "2024-02-12T23:18:14.377237Z"
    }
   },
   "outputs": [
    {
     "data": {
      "text/plain": "1.25"
     },
     "execution_count": 5,
     "metadata": {},
     "output_type": "execute_result"
    }
   ],
   "source": [
    "3 / 2.4"
   ]
  },
  {
   "cell_type": "code",
   "execution_count": 6,
   "outputs": [
    {
     "data": {
      "text/plain": "27"
     },
     "execution_count": 6,
     "metadata": {},
     "output_type": "execute_result"
    }
   ],
   "source": [
    "3 * 9"
   ],
   "metadata": {
    "collapsed": false,
    "ExecuteTime": {
     "end_time": "2024-02-12T23:18:21.269977Z",
     "start_time": "2024-02-12T23:18:21.264608Z"
    }
   },
   "id": "555a5ed835cd6f1e"
  },
  {
   "cell_type": "markdown",
   "source": [
    "# 변수에 숫자 대입하고 계산하기"
   ],
   "metadata": {
    "collapsed": false
   },
   "id": "d1dddce0377d390b"
  },
  {
   "cell_type": "code",
   "execution_count": 9,
   "outputs": [
    {
     "data": {
      "text/plain": "3"
     },
     "execution_count": 9,
     "metadata": {},
     "output_type": "execute_result"
    }
   ],
   "source": [
    "a = 1\n",
    "b = 2\n",
    "a + b "
   ],
   "metadata": {
    "collapsed": false,
    "ExecuteTime": {
     "end_time": "2024-02-12T23:19:05.924759Z",
     "start_time": "2024-02-12T23:19:05.912230Z"
    }
   },
   "id": "473464417543fe26"
  },
  {
   "cell_type": "markdown",
   "source": [
    "# 변수에 문자 대입하고 출력하기\n",
    "주의사항 : 파이썬은 대소문자를 구별한다"
   ],
   "metadata": {
    "collapsed": false
   },
   "id": "e53b2f29636582a"
  },
  {
   "cell_type": "code",
   "execution_count": 11,
   "outputs": [
    {
     "name": "stdout",
     "output_type": "stream",
     "text": [
      "Python\n"
     ]
    }
   ],
   "source": [
    "a = \"Python\"\n",
    "print(a)"
   ],
   "metadata": {
    "collapsed": false,
    "ExecuteTime": {
     "end_time": "2024-02-12T23:19:53.638455Z",
     "start_time": "2024-02-12T23:19:53.628970Z"
    }
   },
   "id": "e12f0707b800c02e"
  },
  {
   "cell_type": "markdown",
   "source": [
    "# 또는 다음과 같이 print 문을 생략하고 변수 이름 a만 입력하여 a의 값을 확인 할수 있다."
   ],
   "metadata": {
    "collapsed": false
   },
   "id": "7d890d4fa6e9c918"
  },
  {
   "cell_type": "code",
   "execution_count": 12,
   "outputs": [
    {
     "data": {
      "text/plain": "'print'"
     },
     "execution_count": 12,
     "metadata": {},
     "output_type": "execute_result"
    }
   ],
   "source": [
    "a = \"print\"\n",
    "a"
   ],
   "metadata": {
    "collapsed": false,
    "ExecuteTime": {
     "end_time": "2024-02-12T23:21:12.488557Z",
     "start_time": "2024-02-12T23:21:12.463615Z"
    }
   },
   "id": "dcfd544f8427a5c8"
  },
  {
   "cell_type": "markdown",
   "source": [
    "# 조건문 if \n",
    "다음은 간단한 조건문 if를 사용한 예제이다.\n",
    "\n",
    "주의사항 : if a > 1:\n",
    "다음 문장은 들여쓰기를 통해 작성해야한다. = print 문"
   ],
   "metadata": {
    "collapsed": false
   },
   "id": "fc076b209ba317f6"
  },
  {
   "cell_type": "code",
   "execution_count": 13,
   "outputs": [
    {
     "name": "stdout",
     "output_type": "stream",
     "text": [
      "a는 1보다 큽니다\n"
     ]
    }
   ],
   "source": [
    "a = 3\n",
    "if a > 1:\n",
    "    print(\"a는 1보다 큽니다\")"
   ],
   "metadata": {
    "collapsed": false,
    "ExecuteTime": {
     "end_time": "2024-02-12T23:22:30.101925Z",
     "start_time": "2024-02-12T23:22:30.066405Z"
    }
   },
   "id": "77659f3a0417049a"
  },
  {
   "cell_type": "markdown",
   "source": [
    "# 반복문 for\n",
    "다음은 for를 사용해서 [1,2,3] 안의 값을 하나씩 출력하는 것을 보여주는 예이다."
   ],
   "metadata": {
    "collapsed": false
   },
   "id": "7d9937a953f5d741"
  },
  {
   "cell_type": "code",
   "execution_count": 14,
   "outputs": [
    {
     "name": "stdout",
     "output_type": "stream",
     "text": [
      "1\n",
      "2\n",
      "3\n"
     ]
    }
   ],
   "source": [
    "for a in [1,2,3]:\n",
    "    print(a)"
   ],
   "metadata": {
    "collapsed": false,
    "ExecuteTime": {
     "end_time": "2024-02-12T23:24:53.192598Z",
     "start_time": "2024-02-12T23:24:53.173370Z"
    }
   },
   "id": "71ea981b99b5fb63"
  },
  {
   "cell_type": "markdown",
   "source": [
    "for 문을 사용하면 실행해야 할 문장을 여러번 반복해서 실행할 수 있다.\n",
    "위 예는 대괄호([])사이에 있는 값을 하나씩 출력한다.\n",
    "이 코드의 의미는 '[1,2,3]리스트의 앞에서부터 하나씩 꺼내 a 변수에 대입 한후 print(a)를 수행하라'이다 이를 실행하면 a에 차례대로 1,2,3 이라는 값을 대입하고\n",
    "print(a)에 의해서 그 값을 차례대로 출력한다."
   ],
   "metadata": {
    "collapsed": false
   },
   "id": "569005781c0236d6"
  },
  {
   "cell_type": "markdown",
   "source": [
    "# 반복문 while\n",
    "\n",
    "다음은 while을 사용하는 예이다."
   ],
   "metadata": {
    "collapsed": false
   },
   "id": "d953119c7d9f73d8"
  },
  {
   "cell_type": "code",
   "execution_count": 15,
   "outputs": [
    {
     "name": "stdout",
     "output_type": "stream",
     "text": [
      "1\n",
      "2\n",
      "3\n"
     ]
    }
   ],
   "source": [
    "i = 0\n",
    "while i < 3:\n",
    "    i=i+1\n",
    "    print(i)"
   ],
   "metadata": {
    "collapsed": false,
    "ExecuteTime": {
     "end_time": "2024-02-12T23:28:47.332725Z",
     "start_time": "2024-02-12T23:28:47.320276Z"
    }
   },
   "id": "488049eb678f6ccd"
  },
  {
   "cell_type": "markdown",
   "source": [
    "while이라는 영어 단어의 뜻인 '~인 동안' 에서 알 수 있듯이 while문은 일정한 조건이 만족하는 동안 문장을 반복해서 수행한다.\n",
    "위 예제는 i 값이 3보다 작은 동안\n",
    "i=i+1 와 print(i)를 반복하는 의미이다. \n",
    "i 값이 3보다 커지면 while문을 빠져나간다."
   ],
   "metadata": {
    "collapsed": false
   },
   "id": "d3a7ee0319c67eda"
  },
  {
   "cell_type": "markdown",
   "source": [
    "# 함수\n",
    "파이썬에서 함수의 형태는 다음과 같다."
   ],
   "metadata": {
    "collapsed": false
   },
   "id": "ed92fa3f4169be8b"
  },
  {
   "cell_type": "code",
   "execution_count": 1,
   "outputs": [
    {
     "data": {
      "text/plain": "7"
     },
     "execution_count": 1,
     "metadata": {},
     "output_type": "execute_result"
    }
   ],
   "source": [
    "def add(a,b):\n",
    "    return a+b\n",
    "add(3,4)"
   ],
   "metadata": {
    "collapsed": false,
    "ExecuteTime": {
     "end_time": "2024-02-14T09:17:26.121178Z",
     "start_time": "2024-02-14T09:17:26.106905Z"
    }
   },
   "id": "774aca1956fa121b"
  },
  {
   "cell_type": "markdown",
   "source": [
    "def는 파이썬에서 함수를 정의할 떄 사용하는 예약어이. 위의 예제는\n",
    "add 함수를 만들고 그 함수를 어떻게 사용하는지를 보여준다.\n",
    "add(a,b)에서\n",
    "a,b는 입력값 / a+b는 결괏값이다. 즉 3,4가 입력으로 들어오면 \n",
    "3+4를 수행하고 그 결괏값인 7을 리턴한다.\n",
    "\n",
    "- 예약어란 프로그래밍 언어에서 이미 문법적인 용도로 사용하고 있는 단어를 말한다.\n",
    "- 리턴(retrun)은 함수에서 값을 반환할 떄 사용한다.\n"
   ],
   "metadata": {
    "collapsed": false
   },
   "id": "a5342de155ab8f23"
  },
  {
   "cell_type": "code",
   "execution_count": null,
   "outputs": [],
   "source": [],
   "metadata": {
    "collapsed": false
   },
   "id": "a71a72332d12ebed"
  }
 ],
 "metadata": {
  "kernelspec": {
   "display_name": "Python 3",
   "language": "python",
   "name": "python3"
  },
  "language_info": {
   "codemirror_mode": {
    "name": "ipython",
    "version": 2
   },
   "file_extension": ".py",
   "mimetype": "text/x-python",
   "name": "python",
   "nbconvert_exporter": "python",
   "pygments_lexer": "ipython2",
   "version": "2.7.6"
  }
 },
 "nbformat": 4,
 "nbformat_minor": 5
}
