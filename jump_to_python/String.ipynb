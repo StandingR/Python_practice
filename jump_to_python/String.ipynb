{
 "cells": [
  {
   "cell_type": "markdown",
   "source": [
    "## 지금부터는 파이썬에서 자주 사용하는 문자열 연산하기"
   ],
   "metadata": {
    "collapsed": false
   },
   "id": "12cba05c4ba59cd6"
  },
  {
   "cell_type": "markdown",
   "source": [
    "문자열 더해서 연결하기"
   ],
   "metadata": {
    "collapsed": false
   },
   "id": "22399650d7887368"
  },
  {
   "cell_type": "code",
   "execution_count": 4,
   "id": "initial_id",
   "metadata": {
    "collapsed": true,
    "ExecuteTime": {
     "end_time": "2024-02-20T01:38:33.069429Z",
     "start_time": "2024-02-20T01:38:33.066704Z"
    }
   },
   "outputs": [
    {
     "data": {
      "text/plain": "'Python is fun!'"
     },
     "execution_count": 4,
     "metadata": {},
     "output_type": "execute_result"
    }
   ],
   "source": [
    "head = \"Python\"\n",
    "tail = \" is fun!\"\n",
    "head + tail\n",
    "#print(head + tail)"
   ]
  },
  {
   "cell_type": "markdown",
   "source": [
    "위 소스 코드에서 세 번째 줄을 살펴보자. 복잡하게 생각하지 말고 눈에 보이는 대로 생각해 보자. \"Python\"이라는 head 변수와 \" is fun!\"이라는 tail 변수를 더한 것이다. 결과는 'Python is fun!'이다. 즉, head와 tail 변수가 +에 의해 합쳐진 것이다. 직접 실행해 보고 결괏값이 제시한 것과 똑같이 나오는지 확인해 보자."
   ],
   "metadata": {
    "collapsed": false
   },
   "id": "a3a3d1c645efe904"
  },
  {
   "cell_type": "markdown",
   "source": [
    "## 문자열 곱하기"
   ],
   "metadata": {
    "collapsed": false
   },
   "id": "ff1757400bd7907f"
  },
  {
   "cell_type": "code",
   "execution_count": 5,
   "outputs": [
    {
     "data": {
      "text/plain": "'PythonPython'"
     },
     "execution_count": 5,
     "metadata": {},
     "output_type": "execute_result"
    }
   ],
   "source": [
    "a = \"Python\"\n",
    "a * 2"
   ],
   "metadata": {
    "collapsed": false,
    "ExecuteTime": {
     "end_time": "2024-02-20T01:39:06.153856Z",
     "start_time": "2024-02-20T01:39:06.149558Z"
    }
   },
   "id": "bc5f50dcaaf78931"
  },
  {
   "cell_type": "markdown",
   "source": [
    "위 소스 코드에서 *의 의미는 우리가 일반적으로 사용하는 숫자 곱하기의 의미와는 다르다. 위 소스 코드에서 a * 2라는 문장은 a를 2번 반복하라는 뜻이다. <br/>\n",
    "## 즉, *는 문자열의 반복을 뜻하는 의미로 사용되었다. 굳이 코드의 의미를 설명할 필요가 없을 정도로 직관적이다.\n",
    "\n"
   ],
   "metadata": {
    "collapsed": false
   },
   "id": "cf46bd7435350d13"
  },
  {
   "cell_type": "markdown",
   "source": [
    "## 문자열 길이 구하기"
   ],
   "metadata": {
    "collapsed": false
   },
   "id": "9d920222bd3c1346"
  },
  {
   "cell_type": "markdown",
   "source": [
    "문자열의 길이는 다음과 같이 len 함수를 사용하면 구할 수 있다. \n",
    "len 함수는 print  함수처럼 파이썬의 기본 내장 함수로, 별다른 설정 없이 바로 사용 할 수 있다.\n",
    "> ## 문자열의 길이에는 공백 문자도 포함된다."
   ],
   "metadata": {
    "collapsed": false
   },
   "id": "2a7cb0d1c7ff04cf"
  },
  {
   "cell_type": "code",
   "execution_count": 6,
   "outputs": [
    {
     "data": {
      "text/plain": "17"
     },
     "execution_count": 6,
     "metadata": {},
     "output_type": "execute_result"
    }
   ],
   "source": [
    "a = \"Life is too short\"\n",
    "len(a)"
   ],
   "metadata": {
    "collapsed": false,
    "ExecuteTime": {
     "end_time": "2024-02-20T01:41:58.624061Z",
     "start_time": "2024-02-20T01:41:58.614581Z"
    }
   },
   "id": "f0ccb67124e1c0f6"
  },
  {
   "cell_type": "markdown",
   "source": [
    "## 문자열 인덱싱과 슬라이싱\n",
    "## 인덱싱(indexing)이란 무엇인가를 '가리킨다.', 슬라이싱(slicing)은 무엇인가를 '자르다, 잘라낸다'린,의미이다.\n",
    "이런 의미를 잘생각하자"
   ],
   "metadata": {
    "collapsed": false
   },
   "id": "4aae3f10dea25f7"
  },
  {
   "cell_type": "markdown",
   "source": [
    "## 문자열 인덱싱"
   ],
   "metadata": {
    "collapsed": false
   },
   "id": "f60c58ac8357f96d"
  },
  {
   "cell_type": "code",
   "execution_count": 7,
   "outputs": [
    {
     "data": {
      "text/plain": "'Life is too short, you need Python'"
     },
     "execution_count": 7,
     "metadata": {},
     "output_type": "execute_result"
    }
   ],
   "source": [
    "a = \"Life is too short, you need Python\"\n",
    "a"
   ],
   "metadata": {
    "collapsed": false,
    "ExecuteTime": {
     "end_time": "2024-02-20T01:44:29.952979Z",
     "start_time": "2024-02-20T01:44:29.935526Z"
    }
   },
   "id": "af05fb3fd4c35c11"
  },
  {
   "cell_type": "markdown",
   "source": [
    "위 코드에서 변수 a에 저장한 문자열의 각 문자마다 번호를 매겨 보면 다음과 같다.\n",
    "\n",
    "L   ~ n\n",
    "0   ~ 33\n",
    "\"Life is too short, You need Python\" 문자열에서 L은 첫 번째 자리를 뜻하는 숫자 0, i는 1 이런 식으로 계속 번호를 붙인 것이다. 즉, 중간에 있는 short의 s는 12가 된다."
   ],
   "metadata": {
    "collapsed": false
   },
   "id": "ef42e42f282f6e7f"
  },
  {
   "cell_type": "code",
   "execution_count": 8,
   "outputs": [
    {
     "data": {
      "text/plain": "'e'"
     },
     "execution_count": 8,
     "metadata": {},
     "output_type": "execute_result"
    }
   ],
   "source": [
    "a[3]"
   ],
   "metadata": {
    "collapsed": false,
    "ExecuteTime": {
     "end_time": "2024-02-20T01:45:31.491244Z",
     "start_time": "2024-02-20T01:45:31.442648Z"
    }
   },
   "id": "d2510c79ed6464f"
  },
  {
   "cell_type": "markdown",
   "source": [
    "a[3]이 뜻하는 것은 a라는 문자열의 네 번째 문자 e를 말한다. 프로그래밍을 처음 접하는 독자라면 a[3]에서 숫자 3이 왜 네 번째 문자를 뜻하는지 의아할 수도 있다. 사실 이 부분이 헷갈릴 수 있는 부분인데, 다음과 같이 생각하면 쉽게 알 수 있을 것이다.\n",
    "> ## \"파이썬은 0부터 숫자를 센다.\"\n",
    "\n",
    "따라서 파이썬은 위 문자열을 다음과 같이 바라보고 있다."
   ],
   "metadata": {
    "collapsed": false
   },
   "id": "b7e8e09a4f1e0163"
  },
  {
   "cell_type": "code",
   "execution_count": 9,
   "outputs": [
    {
     "ename": "SyntaxError",
     "evalue": "invalid syntax (877888059.py, line 1)",
     "output_type": "error",
     "traceback": [
      "\u001B[0;36m  Cell \u001B[0;32mIn[9], line 1\u001B[0;36m\u001B[0m\n\u001B[0;31m    a[0]:'L', a[1]:'i', a[2]:'f', a[3]:'e', a[4]:' ', ...\u001B[0m\n\u001B[0m            ^\u001B[0m\n\u001B[0;31mSyntaxError\u001B[0m\u001B[0;31m:\u001B[0m invalid syntax\n"
     ]
    }
   ],
   "source": [
    "a[0]:'L', a[1]:'i', a[2]:'f', a[3]:'e', a[4]:' ', ...\n"
   ],
   "metadata": {
    "collapsed": false,
    "ExecuteTime": {
     "end_time": "2024-02-20T01:46:09.290409Z",
     "start_time": "2024-02-20T01:46:09.274782Z"
    }
   },
   "id": "6e1dd4a733c5874e"
  },
  {
   "cell_type": "markdown",
   "source": [
    "## 0부터 숫자를 센다는 것에 익숙해져야한다!\n",
    "> ### a[번호]는 문자열 안의 특정한 값을 뽑아 내는 역할을 한다. 이러한 작업을 ‘인덱싱’이라고 한다."
   ],
   "metadata": {
    "collapsed": false
   },
   "id": "a175df0a515947bf"
  },
  {
   "cell_type": "markdown",
   "source": [
    "## 문자열 인덱싱(무엇가를 가르킨다.) 활용하기 \n",
    "\n",
    "인덱싱의 예를 몇 가지 더 살펴보자."
   ],
   "metadata": {
    "collapsed": false
   },
   "id": "bc6e4f76ea9f0328"
  },
  {
   "cell_type": "code",
   "execution_count": 10,
   "outputs": [
    {
     "data": {
      "text/plain": "'L'"
     },
     "execution_count": 10,
     "metadata": {},
     "output_type": "execute_result"
    }
   ],
   "source": [
    "a = \"Life is too short, you nedd Python\"\n",
    "a[0]"
   ],
   "metadata": {
    "collapsed": false,
    "ExecuteTime": {
     "end_time": "2024-02-20T01:47:44.866045Z",
     "start_time": "2024-02-20T01:47:44.855837Z"
    }
   },
   "id": "8b8ba9d47978bf4"
  },
  {
   "cell_type": "code",
   "execution_count": 11,
   "outputs": [
    {
     "data": {
      "text/plain": "'s'"
     },
     "execution_count": 11,
     "metadata": {},
     "output_type": "execute_result"
    }
   ],
   "source": [
    "a[12]"
   ],
   "metadata": {
    "collapsed": false,
    "ExecuteTime": {
     "end_time": "2024-02-20T01:48:36.352765Z",
     "start_time": "2024-02-20T01:48:36.340649Z"
    }
   },
   "id": "fd59bbfbdb65c9b9"
  },
  {
   "cell_type": "code",
   "execution_count": 12,
   "outputs": [
    {
     "data": {
      "text/plain": "'n'"
     },
     "execution_count": 12,
     "metadata": {},
     "output_type": "execute_result"
    }
   ],
   "source": [
    "a[-1]"
   ],
   "metadata": {
    "collapsed": false,
    "ExecuteTime": {
     "end_time": "2024-02-20T01:48:45.035285Z",
     "start_time": "2024-02-20T01:48:45.017327Z"
    }
   },
   "id": "da80171ee3ca43b5"
  },
  {
   "cell_type": "markdown",
   "source": [
    "마지막의 a[-1]이 뜻하는 것은 뭘까? \n",
    "> 눈치 빠른 독자는 이미 알아챘겠지만, 문자열을 뒤에서부터 읽기 위해 -(빼기) 기호를 붙인 것이다. \n",
    "> ### 즉, a[-1]은 뒤에서부터 세어 첫 번째가 되는 문자를 말한다. a의 값은 \"Life is too short, You need Python\" 문자열이므로 뒤에서부터 첫 번째 문자는 가장 마지막 문자 'n'이다.\n",
    "\n",
    "뒤에서부터 첫 번째 문자를 표시할 때도 0부터 세어 ‘a[-0]이라고 해야 하지 않을까?’라는 의문이 들 수도 있겠지만, 잘 생각해 보자. 0과 -0은 똑같은 것이기 때문에 a[-0]은 a[0]과 똑같은 값을 보여 준다."
   ],
   "metadata": {
    "collapsed": false
   },
   "id": "8d2641b1041dc253"
  },
  {
   "cell_type": "code",
   "execution_count": 13,
   "outputs": [
    {
     "data": {
      "text/plain": "'L'"
     },
     "execution_count": 13,
     "metadata": {},
     "output_type": "execute_result"
    }
   ],
   "source": [
    "a[-0]\n",
    "## 파이썬에서 a[0] 과 a[-0]은 같게 처리된다."
   ],
   "metadata": {
    "collapsed": false,
    "ExecuteTime": {
     "end_time": "2024-02-20T01:49:43.500432Z",
     "start_time": "2024-02-20T01:49:43.495069Z"
    }
   },
   "id": "af229d38d3f79711"
  },
  {
   "cell_type": "markdown",
   "source": [
    "## 문자열 슬라이싱\n",
    "> 그렇다면 \"Life is too short, You need Python\" 문자열에서 단순히 한 문자만을 뽑아 내는 것이 아니라 ‘Life’ 또는 ‘You’와 같은 단어를 뽑아 내는 방법은 없을까?\n",
    "\n",
    "다음과 같이 하면 된다."
   ],
   "metadata": {
    "collapsed": false
   },
   "id": "63ffcf874b39eb23"
  },
  {
   "cell_type": "code",
   "execution_count": 16,
   "outputs": [
    {
     "data": {
      "text/plain": "'Life'"
     },
     "execution_count": 16,
     "metadata": {},
     "output_type": "execute_result"
    }
   ],
   "source": [
    "a = \"Life is too short, you need Pyhon\"\n",
    "b = a[0] + a[1] + a[2] + a[3]\n",
    "b"
   ],
   "metadata": {
    "collapsed": false,
    "ExecuteTime": {
     "end_time": "2024-02-20T02:17:09.448998Z",
     "start_time": "2024-02-20T02:17:09.445875Z"
    }
   },
   "id": "58ebb67bb7aa389d"
  },
  {
   "cell_type": "markdown",
   "source": [
    "위와 같이 단순하게 접근할 수도 있지만, 파이썬에서는 더 좋은 방법을 제공한다.\n",
    "바로 슬라이싱(slicng)기법이다. 위 예는 슬라이싱 기법으로 다음과 같이 간단하게 처리할수있다.\n",
    "> 인덱싱 기법과 슬라이싱 기법은 뒤에서 배울 자료형인 리스트나 튜플에서도 사용할수있다.\n"
   ],
   "metadata": {
    "collapsed": false
   },
   "id": "8d542042a7a591fe"
  },
  {
   "cell_type": "code",
   "execution_count": 17,
   "outputs": [
    {
     "data": {
      "text/plain": "'Life'"
     },
     "execution_count": 17,
     "metadata": {},
     "output_type": "execute_result"
    }
   ],
   "source": [
    "a = \"Life is too short, you need Python\"\n",
    "a[0:4]"
   ],
   "metadata": {
    "collapsed": false,
    "ExecuteTime": {
     "end_time": "2024-02-20T02:18:50.713844Z",
     "start_time": "2024-02-20T02:18:50.698076Z"
    }
   },
   "id": "c668b85090337f9a"
  },
  {
   "cell_type": "markdown",
   "source": [
    "a[0:4]는 a 문자열, 즉 \"Life is too short, You need Python\" 문자열에서 자리 번호 0부터 4까지의 문자를 뽑아 낸다는 뜻이다.\n",
    "\n",
    "> 하지만 ‘a[0]은 L, a[1]은 i, a[2]는 f, a[3]은 e이므로 a[0:3]으로도 Life라는 단어를 뽑아 낼 수 있지 않을까?’라는 의문이 생길 것이다. 다음 예로 확인해 보자."
   ],
   "metadata": {
    "collapsed": false
   },
   "id": "e21a57dd362093af"
  },
  {
   "cell_type": "code",
   "execution_count": 18,
   "outputs": [
    {
     "data": {
      "text/plain": "'Lif'"
     },
     "execution_count": 18,
     "metadata": {},
     "output_type": "execute_result"
    }
   ],
   "source": [
    "a[0:3]"
   ],
   "metadata": {
    "collapsed": false,
    "ExecuteTime": {
     "end_time": "2024-02-20T02:19:22.519543Z",
     "start_time": "2024-02-20T02:19:22.502248Z"
    }
   },
   "id": "7f9bfa9491edcae7"
  },
  {
   "cell_type": "markdown",
   "source": [
    "이렇게 되는 이윤는 슬라이싱 기법으로 a[시작_번호:끝]를 지정할 떄, \n",
    "> # 끝 번호에 해당하는 문자는 포함하지 않기 떄문이다.\n",
    "> 즉, a[0:3]을 수식으로 나타내면 다음과 같다."
   ],
   "metadata": {
    "collapsed": false
   },
   "id": "e60ce35a1c4e0def"
  },
  {
   "cell_type": "code",
   "execution_count": null,
   "outputs": [],
   "source": [
    "0 <= a < 3 "
   ],
   "metadata": {
    "collapsed": false
   },
   "id": "f695b5b758c8fb66"
  },
  {
   "cell_type": "markdown",
   "source": [
    "이 수식을 만족하는 것은 a[0],a[1],a[2]이다. 따라서 a[0:3]은 'Lif', a[0:4]는 'Life'가 되는 것이다. 이 부분이 문자열 연산에서 가장 혼동하기 쉬운 부분이므로 02장의 마지막 부분에 있는 되새김 문제를 많이 풀어 보면서 몸에 익히기 바란다."
   ],
   "metadata": {
    "collapsed": false
   },
   "id": "fece404b6ad3d4c8"
  },
  {
   "cell_type": "markdown",
   "source": [
    "## 문자열을 슬라이싱하는 다양한 방법\n",
    "> 슬라이싱의 예를 좀 더 살펴보자"
   ],
   "metadata": {
    "collapsed": false
   },
   "id": "95018e931add6ee8"
  },
  {
   "cell_type": "code",
   "execution_count": 19,
   "outputs": [
    {
     "data": {
      "text/plain": "'Life '"
     },
     "execution_count": 19,
     "metadata": {},
     "output_type": "execute_result"
    }
   ],
   "source": [
    "a[0:5]"
   ],
   "metadata": {
    "collapsed": false,
    "ExecuteTime": {
     "end_time": "2024-02-20T02:22:39.650259Z",
     "start_time": "2024-02-20T02:22:39.624547Z"
    }
   },
   "id": "897fa0f75c9f1287"
  },
  {
   "cell_type": "markdown",
   "source": [
    "위 예는 a[0] + a[1] + a[2] + a[3] + a[4]와 동일하다. a[4]는 공백 문자이기 때문에 'Life'가 아닌 'Life '가 출력된다. 공백 문자 역시 L, i, f, e 와 같은 문자와 동일하게 취급되는 것을 잊지 말자. 'Life'와 'Life '는 완전히 다른 문자열이다.\n",
    "\n",
    "슬라이싱할 때 항상 시작 번호가 0일 필요는 없다."
   ],
   "metadata": {
    "collapsed": false
   },
   "id": "5319798bdc3e2a58"
  },
  {
   "cell_type": "code",
   "execution_count": 22,
   "outputs": [
    {
     "data": {
      "text/plain": "'Li'"
     },
     "execution_count": 22,
     "metadata": {},
     "output_type": "execute_result"
    }
   ],
   "source": [
    "a[0:2]"
   ],
   "metadata": {
    "collapsed": false,
    "ExecuteTime": {
     "end_time": "2024-02-20T02:23:28.809216Z",
     "start_time": "2024-02-20T02:23:28.804704Z"
    }
   },
   "id": "85937c00519e4464"
  },
  {
   "cell_type": "code",
   "execution_count": 23,
   "outputs": [
    {
     "data": {
      "text/plain": "'is'"
     },
     "execution_count": 23,
     "metadata": {},
     "output_type": "execute_result"
    }
   ],
   "source": [
    "a[5:7]"
   ],
   "metadata": {
    "collapsed": false,
    "ExecuteTime": {
     "end_time": "2024-02-20T02:23:30.245447Z",
     "start_time": "2024-02-20T02:23:30.215712Z"
    }
   },
   "id": "aadd245009af54e4"
  },
  {
   "cell_type": "code",
   "execution_count": 24,
   "outputs": [
    {
     "data": {
      "text/plain": "'short'"
     },
     "execution_count": 24,
     "metadata": {},
     "output_type": "execute_result"
    }
   ],
   "source": [
    "a[12:17]"
   ],
   "metadata": {
    "collapsed": false,
    "ExecuteTime": {
     "end_time": "2024-02-20T02:23:31.341964Z",
     "start_time": "2024-02-20T02:23:31.314330Z"
    }
   },
   "id": "ec8721b1bdc272b7"
  },
  {
   "cell_type": "markdown",
   "source": [
    "\n",
    "# a[시작_번호:끝_번호]에서 끝 번호 부분을 생략하면 시작 번호부터 그 문자열의 끝까지 뽑아 낸다.\n"
   ],
   "metadata": {
    "collapsed": false
   },
   "id": "739117048ed0e411"
  },
  {
   "cell_type": "code",
   "execution_count": 25,
   "outputs": [
    {
     "data": {
      "text/plain": "'you need Python'"
     },
     "execution_count": 25,
     "metadata": {},
     "output_type": "execute_result"
    }
   ],
   "source": [
    "a[19:]"
   ],
   "metadata": {
    "collapsed": false,
    "ExecuteTime": {
     "end_time": "2024-02-20T02:24:01.002815Z",
     "start_time": "2024-02-20T02:24:00.969048Z"
    }
   },
   "id": "b048562ece6db48d"
  },
  {
   "cell_type": "markdown",
   "source": [
    "# a[시작_번호:끝_번호]에서 시작 번호를 생략하면 문자열의 처음부터 끝 번호까지 뽑아 낸다."
   ],
   "metadata": {
    "collapsed": false
   },
   "id": "8c036ac6d0ce6d64"
  },
  {
   "cell_type": "code",
   "execution_count": 26,
   "outputs": [
    {
     "data": {
      "text/plain": "'Life is too short'"
     },
     "execution_count": 26,
     "metadata": {},
     "output_type": "execute_result"
    }
   ],
   "source": [
    "a[:17]"
   ],
   "metadata": {
    "collapsed": false,
    "ExecuteTime": {
     "end_time": "2024-02-20T02:24:20.011727Z",
     "start_time": "2024-02-20T02:24:19.992353Z"
    }
   },
   "id": "d50eff8c3edd67f5"
  },
  {
   "cell_type": "markdown",
   "source": [
    "# a[시작_번호:끝_번호]에서 시작 번호와 끝 번호를 생략하면 문자열의 처음부터 끝까지 뽑아 낸다."
   ],
   "metadata": {
    "collapsed": false
   },
   "id": "586cef9aa726400c"
  },
  {
   "cell_type": "code",
   "execution_count": 27,
   "outputs": [
    {
     "data": {
      "text/plain": "'Life is too short, you need Python'"
     },
     "execution_count": 27,
     "metadata": {},
     "output_type": "execute_result"
    }
   ],
   "source": [
    "a[:]"
   ],
   "metadata": {
    "collapsed": false,
    "ExecuteTime": {
     "end_time": "2024-02-20T02:24:33.994888Z",
     "start_time": "2024-02-20T02:24:33.970649Z"
    }
   },
   "id": "5d793e839be34bad"
  },
  {
   "cell_type": "markdown",
   "source": [
    "슬라이싱에서도 인덱싱과 마찬가지로 -(빼기) 기호를 사용할 수 있다.\n",
    "a[19:-7]은 a[19]에서 a[-8]까지를 의미한다. 이때에도 a[-7]은 포함하지 않는다."
   ],
   "metadata": {
    "collapsed": false
   },
   "id": "dd219f5923f3a741"
  },
  {
   "cell_type": "code",
   "execution_count": 28,
   "outputs": [
    {
     "data": {
      "text/plain": "'you need'"
     },
     "execution_count": 28,
     "metadata": {},
     "output_type": "execute_result"
    }
   ],
   "source": [
    "a[19:-7]"
   ],
   "metadata": {
    "collapsed": false,
    "ExecuteTime": {
     "end_time": "2024-02-20T02:25:13.415663Z",
     "start_time": "2024-02-20T02:25:13.388571Z"
    }
   },
   "id": "7db800546ad41ce5"
  },
  {
   "cell_type": "markdown",
   "source": [
    "슬라이싱으로 문자열 나누기\n",
    "다음은 자주 사용하는 슬라이싱 기법 중 하나이다.\n"
   ],
   "metadata": {
    "collapsed": false
   },
   "id": "7d7bb9ab15ca38e5"
  },
  {
   "cell_type": "code",
   "execution_count": 32,
   "outputs": [
    {
     "data": {
      "text/plain": "'20230331'"
     },
     "execution_count": 32,
     "metadata": {},
     "output_type": "execute_result"
    }
   ],
   "source": [
    "a = \"20230331Rainy\"\n",
    "date =a[0:8]\n",
    "date"
   ],
   "metadata": {
    "collapsed": false,
    "ExecuteTime": {
     "end_time": "2024-02-20T02:26:42.733788Z",
     "start_time": "2024-02-20T02:26:42.732058Z"
    }
   },
   "id": "cdb7b72eb16664e1"
  },
  {
   "cell_type": "code",
   "execution_count": 35,
   "outputs": [
    {
     "data": {
      "text/plain": "'Rainy'"
     },
     "execution_count": 35,
     "metadata": {},
     "output_type": "execute_result"
    }
   ],
   "source": [
    "weather = a[8:]\n",
    "weather"
   ],
   "metadata": {
    "collapsed": false,
    "ExecuteTime": {
     "end_time": "2024-02-20T02:27:06.205617Z",
     "start_time": "2024-02-20T02:27:06.196353Z"
    }
   },
   "id": "4d5f10aed9423234"
  },
  {
   "cell_type": "code",
   "execution_count": 37,
   "outputs": [
    {
     "data": {
      "text/plain": "'20230331'"
     },
     "execution_count": 37,
     "metadata": {},
     "output_type": "execute_result"
    }
   ],
   "source": [
    "date = a[:8]\n",
    "date"
   ],
   "metadata": {
    "collapsed": false,
    "ExecuteTime": {
     "end_time": "2024-02-20T02:27:31.125150Z",
     "start_time": "2024-02-20T02:27:31.115007Z"
    }
   },
   "id": "9ee5c84de6fd85eb"
  },
  {
   "cell_type": "code",
   "execution_count": 39,
   "outputs": [
    {
     "data": {
      "text/plain": "'Rainy'"
     },
     "execution_count": 39,
     "metadata": {},
     "output_type": "execute_result"
    }
   ],
   "source": [
    "weather = a[8:]\n",
    "weather"
   ],
   "metadata": {
    "collapsed": false,
    "ExecuteTime": {
     "end_time": "2024-02-20T02:27:43.437372Z",
     "start_time": "2024-02-20T02:27:43.428730Z"
    }
   },
   "id": "a99ccd34749e5e38"
  },
  {
   "cell_type": "markdown",
   "source": [
    "위 예는 문자열 a를 두 부분으로 나누는 기법이다. 숫자 8을 기준으로 문자열 a를 양쪽으로 한 번씩 슬라이싱했다. a[:8]은 a[8]을 포함하지 않고 a[8:]은 a[8]을 포함하기 때문에 8을 기준으로 해서 두 부분으로 나눌 수 있는 것이다. 위 예에서는 \"20230331Rainy\" 문자열을 날짜를 나타내는 부분인 '20230331'과 날씨를 나타내는 부분인 'Rainy'로 나누는 방법을 보여 준다.\n",
    "\n",
    "\"20230331Rainy\"를 연도인 2023, 월과 일을 나타내는 0331, 날씨를 나타내는 Rainy까지 세 부분으로 나누는 방법은 다음과 같다.\n",
    "\n"
   ],
   "metadata": {
    "collapsed": false
   },
   "id": "ebf02a58377955f6"
  },
  {
   "cell_type": "code",
   "execution_count": 42,
   "outputs": [
    {
     "data": {
      "text/plain": "'2023'"
     },
     "execution_count": 42,
     "metadata": {},
     "output_type": "execute_result"
    }
   ],
   "source": [
    "a = \"20230331Rainy\"\n",
    "year = a[0:4]\n",
    "year"
   ],
   "metadata": {
    "collapsed": false,
    "ExecuteTime": {
     "end_time": "2024-02-20T02:28:24.547004Z",
     "start_time": "2024-02-20T02:28:24.540853Z"
    }
   },
   "id": "8d67fd17f9c7031e"
  },
  {
   "cell_type": "code",
   "execution_count": 44,
   "outputs": [
    {
     "data": {
      "text/plain": "'0331'"
     },
     "execution_count": 44,
     "metadata": {},
     "output_type": "execute_result"
    }
   ],
   "source": [
    "day= a[4:8]\n",
    "day"
   ],
   "metadata": {
    "collapsed": false,
    "ExecuteTime": {
     "end_time": "2024-02-20T02:29:19.152033Z",
     "start_time": "2024-02-20T02:29:19.137625Z"
    }
   },
   "id": "ba5b3c33e5218e39"
  },
  {
   "cell_type": "code",
   "execution_count": 46,
   "outputs": [
    {
     "data": {
      "text/plain": "'Rainy'"
     },
     "execution_count": 46,
     "metadata": {},
     "output_type": "execute_result"
    }
   ],
   "source": [
    "weather = a[8:]\n",
    "weather"
   ],
   "metadata": {
    "collapsed": false,
    "ExecuteTime": {
     "end_time": "2024-02-20T02:29:58.714186Z",
     "start_time": "2024-02-20T02:29:58.700548Z"
    }
   },
   "id": "11c41f3927f29dd8"
  },
  {
   "cell_type": "code",
   "execution_count": null,
   "outputs": [],
   "source": [],
   "metadata": {
    "collapsed": false
   },
   "id": "797c6a8e3a4b2b25"
  }
 ],
 "metadata": {
  "kernelspec": {
   "display_name": "Python 3",
   "language": "python",
   "name": "python3"
  },
  "language_info": {
   "codemirror_mode": {
    "name": "ipython",
    "version": 2
   },
   "file_extension": ".py",
   "mimetype": "text/x-python",
   "name": "python",
   "nbconvert_exporter": "python",
   "pygments_lexer": "ipython2",
   "version": "2.7.6"
  }
 },
 "nbformat": 4,
 "nbformat_minor": 5
}
