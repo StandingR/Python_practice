{
 "cells": [
  {
   "cell_type": "markdown",
   "source": [
    "02-1 숫자형\n",
    "숫자형(Number)이란 숫자 형태로 이루어진 자료형으로, 우리가 이미 잘 알고 있는 것이다. 우리가 흔히 사용하는 숫자들을 생각해보자. 123 과 같은 정수\n",
    "12.34와 같은 실수, 8진수나 16진수도 있다.\n",
    "다음 표는 파이썬에서 숫자를 어떻게 사용하는지 간략하게 보여준다."
   ],
   "metadata": {
    "collapsed": false
   },
   "id": "e747421f8e23f51b"
  },
  {
   "cell_type": "code",
   "execution_count": 14,
   "id": "initial_id",
   "metadata": {
    "collapsed": true,
    "ExecuteTime": {
     "end_time": "2024-02-14T09:41:03.266062Z",
     "start_time": "2024-02-14T09:41:03.256270Z"
    }
   },
   "outputs": [
    {
     "name": "stdout",
     "output_type": "stream",
     "text": [
      "integer:123,-345,0\n",
      "floting_point:123,-345,0\n"
     ]
    },
    {
     "data": {
      "text/plain": "(None, None)"
     },
     "execution_count": 14,
     "metadata": {},
     "output_type": "execute_result"
    }
   ],
   "source": [
    "import pandas\n",
    "import numpy\n",
    "\n",
    "#Numer = integer,floting_point\n",
    "\n",
    "a = print(\"integer:123,-345,0\")\n",
    "b = print(\"floting_point:123,-345,0\")\n"
   ]
  },
  {
   "cell_type": "markdown",
   "source": [
    "## 정수형\n",
    "정수형(integer)이란 말 그대로 정수를 뜻하는 자료형을 말한다. 다음은 양의 정수와 음의 정수, 숫자 0을 변수 a에 대입하는 예이다."
   ],
   "metadata": {
    "collapsed": false
   },
   "id": "670f3855a5fb081a"
  },
  {
   "cell_type": "code",
   "execution_count": 15,
   "outputs": [],
   "source": [
    "a = 123\n",
    "a = -178\n",
    "a = 0"
   ],
   "metadata": {
    "collapsed": false,
    "ExecuteTime": {
     "end_time": "2024-02-14T09:46:42.126234Z",
     "start_time": "2024-02-14T09:46:42.124757Z"
    }
   },
   "id": "a5563ce9659e50f"
  },
  {
   "cell_type": "markdown",
   "source": [
    "## 실수형\n",
    "파이선에서 실수향(floating-point)은 소수점이 포함된 숫자를 말한다.\n",
    "다음은 실수를 변수 a에 대입하는 예이다. 일반적으로 볼 수 있는 실수형의 소수점 표햔 방식이다."
   ],
   "metadata": {
    "collapsed": false
   },
   "id": "12caa24a5964ce01"
  },
  {
   "cell_type": "code",
   "execution_count": 16,
   "outputs": [],
   "source": [
    "a = 1.2\n",
    "a = -3.45"
   ],
   "metadata": {
    "collapsed": false,
    "ExecuteTime": {
     "end_time": "2024-02-14T09:48:11.241235Z",
     "start_time": "2024-02-14T09:48:11.220286Z"
    }
   },
   "id": "b4432f6925e8bcee"
  },
  {
   "cell_type": "markdown",
   "source": [
    "다음은 '컴퓨터식 지수 표햔 방식'으로, 파이썬에서는 4.24e10 또는 4.24E10처럼 표현한다.(e와 E 둘 중 어느 것을 사용해도 된다.)\n"
   ],
   "metadata": {
    "collapsed": false
   },
   "id": "19ad1596a2468a9f"
  },
  {
   "cell_type": "code",
   "execution_count": 18,
   "outputs": [],
   "source": [
    "a = 4.24E10\n",
    "a = 4.24e-10\n",
    "# 여기서의 e는 지수의 표현이다 4.24의 10승/ 4.24의 10의 제곱"
   ],
   "metadata": {
    "collapsed": false,
    "ExecuteTime": {
     "end_time": "2024-02-14T09:50:44.890715Z",
     "start_time": "2024-02-14T09:50:44.885792Z"
    }
   },
   "id": "879737829396fa26"
  },
  {
   "cell_type": "markdown",
   "source": [],
   "metadata": {
    "collapsed": false
   },
   "id": "123627aacfa81a78"
  },
  {
   "cell_type": "markdown",
   "source": [
    "## 8진수와 16 진수\n",
    "8진수(octal)를 만들기 위해서는 숫자가 0o 또는 0ㅇ(숫자0+알파벳 소문자o\n",
    "또든 대문자 ㅇ)으로 시작하면된다."
   ],
   "metadata": {
    "collapsed": false
   },
   "id": "8654fb44172cafce"
  },
  {
   "cell_type": "code",
   "execution_count": 19,
   "outputs": [
    {
     "name": "stdout",
     "output_type": "stream",
     "text": [
      "127\n"
     ]
    }
   ],
   "source": [
    "a = 0o177\n",
    "print(a)"
   ],
   "metadata": {
    "collapsed": false,
    "ExecuteTime": {
     "end_time": "2024-02-14T09:53:11.787633Z",
     "start_time": "2024-02-14T09:53:11.770905Z"
    }
   },
   "id": "f50bc978715f0854"
  },
  {
   "cell_type": "markdown",
   "source": [
    "16진수(hexadecimal)를 만들기 위해서는 0x로 시작하면 된다."
   ],
   "metadata": {
    "collapsed": false
   },
   "id": "a3fd0cf0bd1acd2e"
  },
  {
   "cell_type": "code",
   "execution_count": 20,
   "outputs": [
    {
     "name": "stdout",
     "output_type": "stream",
     "text": [
      "2748\n"
     ]
    }
   ],
   "source": [
    "a = 0x8ff\n",
    "b = 0xABC\n",
    "print(b)"
   ],
   "metadata": {
    "collapsed": false,
    "ExecuteTime": {
     "end_time": "2024-02-14T09:54:38.955468Z",
     "start_time": "2024-02-14T09:54:38.943922Z"
    }
   },
   "id": "c69ed1619b3bf319"
  },
  {
   "cell_type": "markdown",
   "source": [
    "8진수와 16진수는 참고용"
   ],
   "metadata": {
    "collapsed": false
   },
   "id": "a89ad4b6cc3985a0"
  },
  {
   "cell_type": "markdown",
   "source": [
    "## 숫자형을 활용하기 위한 연산자\n",
    "\n",
    "사칙 연산\n",
    "계산기의 연산자와 동일 하지만 조금 모양만 다름"
   ],
   "metadata": {
    "collapsed": false
   },
   "id": "d80480d1c71d41d2"
  },
  {
   "cell_type": "code",
   "execution_count": 23,
   "outputs": [
    {
     "data": {
      "text/plain": "7"
     },
     "execution_count": 23,
     "metadata": {},
     "output_type": "execute_result"
    }
   ],
   "source": [
    "a = 3\n",
    "b = 4\n",
    "a + b"
   ],
   "metadata": {
    "collapsed": false,
    "ExecuteTime": {
     "end_time": "2024-02-14T09:57:12.389630Z",
     "start_time": "2024-02-14T09:57:12.385375Z"
    }
   },
   "id": "4e94a5c1b82a6aaf"
  },
  {
   "cell_type": "code",
   "execution_count": 24,
   "outputs": [
    {
     "data": {
      "text/plain": "-1"
     },
     "execution_count": 24,
     "metadata": {},
     "output_type": "execute_result"
    }
   ],
   "source": [
    "a - b"
   ],
   "metadata": {
    "collapsed": false,
    "ExecuteTime": {
     "end_time": "2024-02-14T09:57:16.986401Z",
     "start_time": "2024-02-14T09:57:16.955830Z"
    }
   },
   "id": "e7bfb5149510865"
  },
  {
   "cell_type": "code",
   "execution_count": 25,
   "outputs": [
    {
     "data": {
      "text/plain": "12"
     },
     "execution_count": 25,
     "metadata": {},
     "output_type": "execute_result"
    }
   ],
   "source": [
    "a * b"
   ],
   "metadata": {
    "collapsed": false,
    "ExecuteTime": {
     "end_time": "2024-02-14T09:57:22.286233Z",
     "start_time": "2024-02-14T09:57:22.277951Z"
    }
   },
   "id": "6a73ff062bb51f60"
  },
  {
   "cell_type": "code",
   "execution_count": 26,
   "outputs": [
    {
     "data": {
      "text/plain": "0.75"
     },
     "execution_count": 26,
     "metadata": {},
     "output_type": "execute_result"
    }
   ],
   "source": [
    "a / b"
   ],
   "metadata": {
    "collapsed": false,
    "ExecuteTime": {
     "end_time": "2024-02-14T09:57:39.516007Z",
     "start_time": "2024-02-14T09:57:39.497062Z"
    }
   },
   "id": "34b0ff936ffaa0da"
  },
  {
   "cell_type": "markdown",
   "source": [
    "## x의 y제곱을 나타내는 ** 연산자\n",
    "다음으로 알아야 할 연산자로 ** 라는 연산자가 있다.\n",
    "이 연산자는 x ** y 처럼 사용했을 때 x의 y제곱(X**y)값을 리턴한다."
   ],
   "metadata": {
    "collapsed": false
   },
   "id": "9505125c35bc3199"
  },
  {
   "cell_type": "code",
   "execution_count": 27,
   "outputs": [
    {
     "data": {
      "text/plain": "81"
     },
     "execution_count": 27,
     "metadata": {},
     "output_type": "execute_result"
    }
   ],
   "source": [
    "a = 3\n",
    "b = 4\n",
    "a ** b"
   ],
   "metadata": {
    "collapsed": false,
    "ExecuteTime": {
     "end_time": "2024-02-14T09:59:15.223272Z",
     "start_time": "2024-02-14T09:59:15.200352Z"
    }
   },
   "id": "9635383763decbfb"
  },
  {
   "cell_type": "markdown",
   "source": [
    "## 나누셈 후 나머지를 리턴하는 % 연산자\n",
    "\n",
    "프로그래밍을 처음 접하는 사람이라면, % 연산자는 본 적이 없을것.\n",
    "%는 나눗셈의 나머지 값을 리턴한느 연산자이다. \n",
    "7을 3으로 나누면 나머지는 1, 3으로 7을 나누면 나머지는 3이 될 것이다. 다음 예로 확인해보자"
   ],
   "metadata": {
    "collapsed": false
   },
   "id": "4006e6566912c089"
  },
  {
   "cell_type": "code",
   "execution_count": 28,
   "outputs": [
    {
     "data": {
      "text/plain": "1"
     },
     "execution_count": 28,
     "metadata": {},
     "output_type": "execute_result"
    }
   ],
   "source": [
    "7 % 3"
   ],
   "metadata": {
    "collapsed": false,
    "ExecuteTime": {
     "end_time": "2024-02-14T10:00:50.098050Z",
     "start_time": "2024-02-14T10:00:50.070205Z"
    }
   },
   "id": "b3d3c53991b62f93"
  },
  {
   "cell_type": "code",
   "execution_count": 29,
   "outputs": [
    {
     "data": {
      "text/plain": "3"
     },
     "execution_count": 29,
     "metadata": {},
     "output_type": "execute_result"
    }
   ],
   "source": [
    "3 % 7"
   ],
   "metadata": {
    "collapsed": false,
    "ExecuteTime": {
     "end_time": "2024-02-14T10:00:55.312126Z",
     "start_time": "2024-02-14T10:00:55.306966Z"
    }
   },
   "id": "1800ae6bd8cda397"
  },
  {
   "cell_type": "markdown",
   "source": [
    "## 나눗셈 후 몫을 리턴하는 // 연신자\n",
    "/ 연산자를 사용하여 7 나누기 4를 하면 그 결과는 예상대로  1.75가 된다"
   ],
   "metadata": {
    "collapsed": false
   },
   "id": "7f1318cc272cdb0"
  },
  {
   "cell_type": "code",
   "execution_count": 30,
   "outputs": [
    {
     "data": {
      "text/plain": "1.75"
     },
     "execution_count": 30,
     "metadata": {},
     "output_type": "execute_result"
    }
   ],
   "source": [
    "7 / 4"
   ],
   "metadata": {
    "collapsed": false,
    "ExecuteTime": {
     "end_time": "2024-02-14T10:02:16.027833Z",
     "start_time": "2024-02-14T10:02:15.993135Z"
    }
   },
   "id": "d2c9a623e9f5d8b3"
  },
  {
   "cell_type": "markdown",
   "source": [
    "이번에는 나눗셈 후 몫을 리턴하는 // 연산자를 사용한 경우를 살펴보자"
   ],
   "metadata": {
    "collapsed": false
   },
   "id": "93e01729cb935ace"
  },
  {
   "cell_type": "code",
   "execution_count": 31,
   "outputs": [
    {
     "data": {
      "text/plain": "1"
     },
     "execution_count": 31,
     "metadata": {},
     "output_type": "execute_result"
    }
   ],
   "source": [
    "7 // 4"
   ],
   "metadata": {
    "collapsed": false,
    "ExecuteTime": {
     "end_time": "2024-02-14T10:02:41.299217Z",
     "start_time": "2024-02-14T10:02:41.277764Z"
    }
   },
   "id": "c1cc6d3a77f00f25"
  },
  {
   "cell_type": "markdown",
   "source": [
    "1.75에서 몫에 해당하는 정숫값 1만 리턴하는 것을 확인 할 수 있다."
   ],
   "metadata": {
    "collapsed": false
   },
   "id": "6bbb588315c81122"
  },
  {
   "cell_type": "code",
   "execution_count": null,
   "outputs": [],
   "source": [],
   "metadata": {
    "collapsed": false
   },
   "id": "f1916241abbe3b34"
  }
 ],
 "metadata": {
  "kernelspec": {
   "display_name": "Python 3",
   "language": "python",
   "name": "python3"
  },
  "language_info": {
   "codemirror_mode": {
    "name": "ipython",
    "version": 2
   },
   "file_extension": ".py",
   "mimetype": "text/x-python",
   "name": "python",
   "nbconvert_exporter": "python",
   "pygments_lexer": "ipython2",
   "version": "2.7.6"
  }
 },
 "nbformat": 4,
 "nbformat_minor": 5
}
