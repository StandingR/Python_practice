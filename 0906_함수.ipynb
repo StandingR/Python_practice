{
  "nbformat": 4,
  "nbformat_minor": 0,
  "metadata": {
    "colab": {
      "provenance": [],
      "authorship_tag": "ABX9TyMtHSU5/A6+3T9Qtu/DnzpQ",
      "include_colab_link": true
    },
    "kernelspec": {
      "name": "python3",
      "display_name": "Python 3"
    },
    "language_info": {
      "name": "python"
    }
  },
  "cells": [
    {
      "cell_type": "markdown",
      "metadata": {
        "id": "view-in-github",
        "colab_type": "text"
      },
      "source": [
        "<a href=\"https://colab.research.google.com/github/StandingR/Python_practice/blob/main/0906_%ED%95%A8%EC%88%98.ipynb\" target=\"_parent\"><img src=\"https://colab.research.google.com/assets/colab-badge.svg\" alt=\"Open In Colab\"/></a>"
      ]
    },
    {
      "cell_type": "markdown",
      "source": [],
      "metadata": {
        "id": "07FlMD1t4HYs"
      }
    },
    {
      "cell_type": "markdown",
      "source": [
        "##함수\n"
      ],
      "metadata": {
        "id": "8SoWClOJQyD2"
      }
    },
    {
      "cell_type": "code",
      "source": [
        "# def functionname[a, b]:\n",
        "def sum(num1, num2):\n",
        "  result = num1 + num2\n",
        "  return (result)"
      ],
      "metadata": {
        "id": "uclB_Ub6Q22t"
      },
      "execution_count": null,
      "outputs": []
    },
    {
      "cell_type": "code",
      "source": [
        "sum(10000000009, 3921830921832019839021)"
      ],
      "metadata": {
        "colab": {
          "base_uri": "https://localhost:8080/"
        },
        "id": "wB_m4uTJSAJf",
        "outputId": "041a5929-b19a-4d61-cbd7-ea0ea2b203d1"
      },
      "execution_count": null,
      "outputs": [
        {
          "output_type": "execute_result",
          "data": {
            "text/plain": [
              "3921830921842019839030"
            ]
          },
          "metadata": {},
          "execution_count": 11
        }
      ]
    },
    {
      "cell_type": "code",
      "source": [
        "#입력값이 x\n",
        "def say():\n",
        "  return \"Hi\"\n",
        "say()"
      ],
      "metadata": {
        "colab": {
          "base_uri": "https://localhost:8080/",
          "height": 35
        },
        "id": "61a5RtNzSCyJ",
        "outputId": "b3210be7-3812-4919-90fe-5a0bf8029ec5"
      },
      "execution_count": null,
      "outputs": [
        {
          "output_type": "execute_result",
          "data": {
            "text/plain": [
              "'Hi'"
            ],
            "application/vnd.google.colaboratory.intrinsic+json": {
              "type": "string"
            }
          },
          "metadata": {},
          "execution_count": 12
        }
      ]
    },
    {
      "cell_type": "code",
      "source": [],
      "metadata": {
        "id": "e06ng_n5Uo-t"
      },
      "execution_count": null,
      "outputs": []
    },
    {
      "cell_type": "code",
      "source": [
        "def sum2(num1, num2):\n",
        "  print(num1+num2)\n",
        "\n",
        "a = sum(3,4)\n",
        "b = sum2(3,4)"
      ],
      "metadata": {
        "colab": {
          "base_uri": "https://localhost:8080/"
        },
        "id": "zCfVy3F0ScEh",
        "outputId": "e10e70ff-1469-4753-fa9c-70876751e9d9"
      },
      "execution_count": null,
      "outputs": [
        {
          "output_type": "stream",
          "name": "stdout",
          "text": [
            "7\n"
          ]
        }
      ]
    },
    {
      "cell_type": "code",
      "source": [
        "print(a)\n",
        "print(b)"
      ],
      "metadata": {
        "colab": {
          "base_uri": "https://localhost:8080/"
        },
        "id": "Yv8GaZqQUUef",
        "outputId": "55bb27be-9bae-4529-d753-567951471893"
      },
      "execution_count": null,
      "outputs": [
        {
          "output_type": "stream",
          "name": "stdout",
          "text": [
            "7\n",
            "None\n"
          ]
        }
      ]
    },
    {
      "cell_type": "code",
      "source": [
        "sum (3,4) #SUM에 순서대로 넣어주는것\n",
        "sum (num1 = 3, num2 = 4) #SUM에 파라미터를 명시해서 넣어주는것, 순서가 바뀌어도 된다."
      ],
      "metadata": {
        "colab": {
          "base_uri": "https://localhost:8080/"
        },
        "id": "mJvbluIrUtOe",
        "outputId": "c8e0071a-3036-4727-ce67-7cffe8573612"
      },
      "execution_count": null,
      "outputs": [
        {
          "output_type": "execute_result",
          "data": {
            "text/plain": [
              "7"
            ]
          },
          "metadata": {},
          "execution_count": 21
        }
      ]
    },
    {
      "cell_type": "code",
      "source": [
        "def say_myself(name, old, man = True): # man = True의 경우는 맨 끝에 작성 미리지정\n",
        "  print(f\"나의 이름은 {name}입니다.\")\n",
        "  print(f\"나의 이름은 {old}입니다.\")\n",
        "  if man:\n",
        "    print(\"남자.\")\n",
        "  else:\n",
        "    print(\"여자.\")\n",
        "say_myself(\"홍길동\",20)\n",
        "say_myself(\"박명수\",56, True)\n",
        "say_myself(\"홍길동\",20, False)\n",
        "say_myself(\"재우\",27)"
      ],
      "metadata": {
        "colab": {
          "base_uri": "https://localhost:8080/"
        },
        "id": "ArJwJKHhU4g2",
        "outputId": "db5ca2e9-75dc-42d7-f1f5-62908cfe42e4"
      },
      "execution_count": null,
      "outputs": [
        {
          "output_type": "stream",
          "name": "stdout",
          "text": [
            "나의 이름은 홍길동입니다.\n",
            "나의 이름은 20입니다.\n",
            "남자.\n",
            "나의 이름은 박명수입니다.\n",
            "나의 이름은 56입니다.\n",
            "남자.\n",
            "나의 이름은 홍길동입니다.\n",
            "나의 이름은 20입니다.\n",
            "여자.\n",
            "나의 이름은 재우입니다.\n",
            "나의 이름은 27입니다.\n",
            "남자.\n"
          ]
        }
      ]
    },
    {
      "cell_type": "code",
      "source": [
        "#조금 어렵지만 빡세거입니당!\n"
      ],
      "metadata": {
        "id": "7KAMRB9zWfco"
      },
      "execution_count": null,
      "outputs": []
    },
    {
      "cell_type": "markdown",
      "source": [
        "## 전역변수 vs 지역변수\n",
        "\n",
        "- 전역변수 : 함수 외부에서 선언 된 변수이며 프로그램 전체에서 사용 가능하다.\n",
        "- 지역변수 : 함수 내부에서 선언 된 변수이며, 해당 함수 내부에서만 사용할 수 있다.\n"
      ],
      "metadata": {
        "id": "5pZJW7NbXdMn"
      }
    },
    {
      "cell_type": "code",
      "source": [
        "#지역 변수\n",
        "def test():\n",
        "  local_var = 20\n",
        "test()"
      ],
      "metadata": {
        "id": "AvKnSnGXXx_g"
      },
      "execution_count": null,
      "outputs": []
    },
    {
      "cell_type": "code",
      "source": [
        "print(local_var)"
      ],
      "metadata": {
        "id": "6VI7qXbSX_7f"
      },
      "execution_count": null,
      "outputs": []
    },
    {
      "cell_type": "code",
      "source": [
        "# 쓰려면 함수에 값을 지정\n",
        "def test2():\n",
        "  local_var = 20\n",
        "  return local_var\n",
        "a = test2()\n",
        "print(a)"
      ],
      "metadata": {
        "id": "wtpeCtGaYjxP"
      },
      "execution_count": null,
      "outputs": []
    },
    {
      "cell_type": "code",
      "source": [
        "# 그냥 알고만 있어라, 지역변수를 전역변수로 바꿔서 쓰는법, 걍 까먹으셈\n",
        "\n",
        "def test3():\n",
        "  global local_var\n",
        "  local_var = 20\n",
        "test3()\n",
        "print(local_var)"
      ],
      "metadata": {
        "colab": {
          "base_uri": "https://localhost:8080/"
        },
        "id": "O3ceS7obYoNf",
        "outputId": "bdb1a70c-c653-4918-8bac-c5da950fab6c"
      },
      "execution_count": null,
      "outputs": [
        {
          "output_type": "stream",
          "name": "stdout",
          "text": [
            "20\n"
          ]
        }
      ]
    },
    {
      "cell_type": "code",
      "source": [
        "\"\"\"Example 2-9. 입력하는 모든 수의 평균을 계산하는 함수 만들기\n",
        "* 입력 개수에 상관없이 사용하기 위해, 함수 입력 값 자리에, *args를 사용\n",
        "-> def means(*args):\"\"\"\n",
        "\n",
        "def means(*args):\n",
        "  return args\n",
        "print(means(1,2,3))\n",
        "print(means(1,2,3,4,5,6))"
      ],
      "metadata": {
        "colab": {
          "base_uri": "https://localhost:8080/"
        },
        "id": "3NqDAreHY7px",
        "outputId": "38beb95d-4f3c-4ca0-f1f9-8f2e960292f2"
      },
      "execution_count": null,
      "outputs": [
        {
          "output_type": "stream",
          "name": "stdout",
          "text": [
            "(1, 2, 3)\n",
            "(1, 2, 3, 4, 5, 6)\n"
          ]
        }
      ]
    },
    {
      "cell_type": "code",
      "source": [
        "def average(args):\n",
        "  print(f\"{args}\"+ \"{args}\" % {args})"
      ],
      "metadata": {
        "id": "KTtT0Ed1cqml"
      },
      "execution_count": null,
      "outputs": []
    },
    {
      "cell_type": "markdown",
      "source": [
        "## 실습문제\n",
        "\n",
        "1.BackAccount이름의 클래스를 생성합니다.\n",
        "\n",
        "2.생성자 메서드로, 계좌 번호, 예금주 이름, 초기 잔액을 받아 계좌를 생성합니다.\n",
        "\n",
        "3.입금, 출금, 현재 계좌의 잔액을 반환하는 메서드를 생성합니다."
      ],
      "metadata": {
        "id": "LkakgwhRG3Pe"
      }
    },
    {
      "cell_type": "code",
      "source": [
        "class BackAccount:\n",
        "  def __init__(self,acnum, acbalance):\n",
        "    self.acnum ="
      ],
      "metadata": {
        "id": "sd3K6YlWG31t"
      },
      "execution_count": null,
      "outputs": []
    },
    {
      "cell_type": "code",
      "source": [
        "class BackAccount:\n",
        "  #self(\"계좌번호를 입력하세요\")\n",
        "  def __init__(self, accountname, balance):\n",
        "    self.accountname = accountname\n",
        "    self.balance  = balance\n",
        "\n",
        "d = BackAccount(\"123\", 4000)\n",
        "print(d.balance,d.accountname)\n"
      ],
      "metadata": {
        "colab": {
          "base_uri": "https://localhost:8080/"
        },
        "id": "ah9YDQY1HiEI",
        "outputId": "d7ebe82e-9da4-4672-fa46-b2ec3674b718"
      },
      "execution_count": null,
      "outputs": [
        {
          "output_type": "stream",
          "name": "stdout",
          "text": [
            "4000 123\n"
          ]
        }
      ]
    },
    {
      "cell_type": "markdown",
      "source": [
        "## 상속\n",
        "\n"
      ],
      "metadata": {
        "id": "2A_Ygc-4M_O-"
      }
    },
    {
      "cell_type": "code",
      "source": [
        "class FourCal:\n",
        "    def __init__(self, num1, num2):\n",
        "        self.num1 = num1\n",
        "        self.num2 = num2\n",
        "\n",
        "    def add(self):\n",
        "        return self.num1 + self.num2\n",
        "\n",
        "    def subtract(self):\n",
        "\n",
        "\n",
        "        return self.num1 - self.num2\n",
        "\n",
        "    def multiply(self):\n",
        "        return self.num1 * self.num2\n",
        "\n",
        "    def divide(self):\n",
        "        return self.num1 / self.num2"
      ],
      "metadata": {
        "id": "PS0-D5m_ORjO"
      },
      "execution_count": null,
      "outputs": []
    },
    {
      "cell_type": "code",
      "source": [
        "class MoreFourCal(FourCal):\n",
        "  def divide(self):\n",
        "    if self.num2 == 0:\n",
        "      return 0\n",
        "    else:\n",
        "      return self.num1 / self.num2"
      ],
      "metadata": {
        "id": "Y4Y4tp2gOTlt"
      },
      "execution_count": null,
      "outputs": []
    },
    {
      "cell_type": "code",
      "source": [
        "a = MoreFourCal(2, 0)\n",
        "a.divide()"
      ],
      "metadata": {
        "id": "yPyEFpSwOVYm"
      },
      "execution_count": null,
      "outputs": []
    }
  ]
}